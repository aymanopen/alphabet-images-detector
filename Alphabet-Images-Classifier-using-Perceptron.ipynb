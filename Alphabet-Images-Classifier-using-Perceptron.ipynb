{
 "cells": [
  {
   "cell_type": "markdown",
   "metadata": {},
   "source": [
    "### In this assignement we create a perceptron classifier with Eta = 0.05, to train the classifier with pictures of the alphabet, then use testing data to predict the letters from the images"
   ]
  },
  {
   "cell_type": "code",
   "execution_count": 1,
   "metadata": {
    "collapsed": true
   },
   "outputs": [],
   "source": [
    "import numpy as np\n",
    "import matplotlib.pyplot as plt\n",
    "from packages_alphabet_detect.myown import *\n",
    "\n",
    "alphabet=list(map(chr, range(97, 123)))"
   ]
  },
  {
   "cell_type": "markdown",
   "metadata": {},
   "source": [
    "# Scan for training and test images\n"
   ]
  },
  {
   "cell_type": "code",
   "execution_count": 2,
   "metadata": {
    "collapsed": true
   },
   "outputs": [],
   "source": [
    "training,testing=get_images(alphabet,path='Assignment 1 Dataset/')"
   ]
  },
  {
   "cell_type": "markdown",
   "metadata": {},
   "source": [
    "# Getting Ws"
   ]
  },
  {
   "cell_type": "code",
   "execution_count": 3,
   "metadata": {
    "collapsed": true
   },
   "outputs": [],
   "source": [
    "w_init=np.zeros(len(training[0][0]))\n",
    "w_init[0]=1\n",
    "w_all=[]\n",
    "x_train=getx_train(training)\n",
    "for char in range(len(alphabet)):\n",
    "    w_all.append(get_w(char,training,x_train,w_init))"
   ]
  },
  {
   "cell_type": "markdown",
   "metadata": {},
   "source": [
    "# Predict testset"
   ]
  },
  {
   "cell_type": "code",
   "execution_count": 4,
   "metadata": {
    "collapsed": true
   },
   "outputs": [],
   "source": [
    "predictions=test_results(testing,w_all)"
   ]
  },
  {
   "cell_type": "markdown",
   "metadata": {},
   "source": [
    "# Calculate the performance"
   ]
  },
  {
   "cell_type": "code",
   "execution_count": 5,
   "metadata": {
    "collapsed": true
   },
   "outputs": [],
   "source": [
    "final_results=performance_calculator(predictions,alphabet)"
   ]
  },
  {
   "cell_type": "markdown",
   "metadata": {},
   "source": [
    "# Plot it"
   ]
  },
  {
   "cell_type": "code",
   "execution_count": 6,
   "metadata": {},
   "outputs": [
    {
     "data": {
      "image/png": "[encoded data removed]",
      "text/plain": [
       "<matplotlib.figure.Figure at 0x7fc6f241c6a0>"
      ]
     },
     "metadata": {},
     "output_type": "display_data"
    }
   ],
   "source": [
    "plt.figure(figsize=[17,7])\n",
    "plt.bar(range(len(final_results)),np.array(final_results).T[1].T,color='#ff9408')\n",
    "plt.bar(range(len(final_results)),np.array(final_results).T[0].T,color='#047495',label='Correct Prediction Count')\n",
    "plt.xlabel('Alphabet')\n",
    "plt.ylabel('Number of correct predictions vs total',)\n",
    "plt.legend(framealpha=1)\n",
    "plt.xticks(range(len(final_results)),alphabet)\n",
    "plt.yticks(range(3))\n",
    "plt.show()\n",
    "#plt.savefig('Accuracy.jpg')"
   ]
  },
  {
   "cell_type": "markdown",
   "metadata": {},
   "source": [
    "# Tell me which ones were misclassified and to whom were they misclassified"
   ]
  },
  {
   "cell_type": "code",
   "execution_count": 7,
   "metadata": {},
   "outputs": [
    {
     "name": "stdout",
     "output_type": "stream",
     "text": [
      "Problematic predictions:\n",
      "The image: A1i9.jpg is of letter: i, however, it was predicted/seen as h\n",
      "The image: A1l9.jpg is of letter: l, however, it was predicted/seen as q\n"
     ]
    }
   ],
   "source": [
    "which_misclassed(predictions,alphabet,testing)"
   ]
  }
 ],
 "metadata": {
  "kernelspec": {
   "display_name": "Python 3",
   "language": "python",
   "name": "python3"
  },
  "language_info": {
   "codemirror_mode": {
    "name": "ipython",
    "version": 3
   },
   "file_extension": ".py",
   "mimetype": "text/x-python",
   "name": "python",
   "nbconvert_exporter": "python",
   "pygments_lexer": "ipython3",
   "version": "3.6.2"
  }
 },
 "nbformat": 4,
 "nbformat_minor": 2
}
